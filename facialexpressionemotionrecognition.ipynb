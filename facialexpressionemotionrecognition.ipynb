from keras.utils import to_categorical
from keras_preprocessing.image import load_img
from keras.models import Sequential
from keras.layers import Dense, Conv2D, Dropout, Flatten, MaxPooling2D
import os
import pandas as pd
import numpy as np    

TRAIN_DIR = 'images/train'
TEST_DIR = 'images/test'
 
       
       
      
      
      
   
    
